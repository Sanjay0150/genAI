{
 "cells": [
  {
   "cell_type": "code",
   "execution_count": null,
   "id": "bca7f291",
   "metadata": {},
   "outputs": [],
   "source": [
    "!pip install langchain langchain-community langchain-groq -q\n",
    "!pip install groq PyMuPDF faiss-cpu sentence-transformers -q\n",
    "\n",
    "import os, fitz, faiss, numpy as np\n",
    "from kaggle_secrets import UserSecretsClient\n",
    "from langchain_groq import ChatGroq\n",
    "from langchain.chains import LLMChain\n",
    "from langchain.prompts import PromptTemplate\n",
    "from langchain.text_splitter import RecursiveCharacterTextSplitter\n",
    "from sentence_transformers import SentenceTransformer\n",
    "\n",
    "os.environ[\"GROQ_API_KEY\"] = UserSecretsClient().get_secret(\"GROQ_API_KEY\")\n",
    "llm = ChatGroq(model_name=\"llama-3.3-70b-versatile\")\n",
    "\n",
    "def extract_text(path): return \"\\n\".join(page.get_text() for page in fitz.open(path))\n",
    "text = extract_text(\"/kaggle/input/ipc-pdf/IPC_186045.pdf\")\n",
    "\n",
    "splitter = RecursiveCharacterTextSplitter(chunk_size=500, chunk_overlap=50)\n",
    "chunks = splitter.split_text(text)\n",
    "model = SentenceTransformer(\"sentence-transformers/all-MiniLM-L6-V2\")\n",
    "embeddings = model.encode(chunks)\n",
    "index = faiss.IndexFlatL2(embeddings.shape[1])\n",
    "index.add(np.array(embeddings))\n",
    "\n",
    "def search_faiss(query):\n",
    "    q_embed = model.encode([query])\n",
    "    _, idx = index.search(np.array(q_embed), k=1)\n",
    "    return chunks[idx[0][0]]\n",
    "\n",
    "prompt = PromptTemplate(\n",
    "    input_variables=[\"ipc_section\", \"query\"],\n",
    "    template=\"\"\"You are an expert in Indian law. A user asked: \"{query}\"\n",
    "Based on the Indian Penal Code (IPC), the relevant section is:\n",
    "{ipc_section}\n",
    "Please provide:\n",
    "- A simple explanation\n",
    "- The key legal points\n",
    "- Possible punishments\n",
    "- A real-world example\"\"\"\n",
    ")\n",
    "\n",
    "def ipc_bot(query):\n",
    "    section = search_faiss(query)\n",
    "    return LLMChain(llm=llm, prompt=prompt).run(ipc_section=section, query=query)\n",
    "\n",
    "print(ipc_bot(\"What is the punishment for theft under IPC?\"))"
   ]
  }
 ],
 "metadata": {
  "language_info": {
   "name": "python"
  }
 },
 "nbformat": 4,
 "nbformat_minor": 5
}
