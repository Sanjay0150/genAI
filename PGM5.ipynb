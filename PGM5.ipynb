{
 "cells": [
  {
   "cell_type": "code",
   "execution_count": null,
   "id": "fa8663f9",
   "metadata": {},
   "outputs": [],
   "source": [
    "import gensim.downloader as api\n",
    "from gensim.models import KeyedVectors\n",
    "import random\n",
    "\n",
    "model = api.load(\"glove-wiki-gigaword-100\")\n",
    "\n",
    "def generate_similar_words(seed_word, topn=10):\n",
    "    if seed_word in model:\n",
    "        return [word for word, _ in model.most_similar(seed_word, topn=topn)]\n",
    "    else:\n",
    "        return []\n",
    "\n",
    "def create_paragraph(seed_word):\n",
    "    similar_words = generate_similar_words(seed_word, topn=10)\n",
    "    if not similar_words:\n",
    "        return f\"No similar words found for '{seed_word}'.\"\n",
    "\n",
    "    random.shuffle(similar_words)\n",
    "    selected_words = similar_words[:5]\n",
    "\n",
    "    paragraph = f\"In a world defined by {seed_word}, \"\n",
    "    paragraph += f\"people found themselves surrounded by concepts like {', '.join(selected_words[:-1])}, and {selected_words[-1]}. \"\n",
    "    paragraph += f\"These ideas shaped the way they thought, acted, and dreamed. Every step forward in their journey reflected the essence of '{seed_word}', \"\n",
    "    paragraph += f\"bringing them closer to understanding the true meaning of {selected_words[0]}.\"\n",
    "\n",
    "    return paragraph\n",
    "\n",
    "seed = \"freedom\"\n",
    "print(create_paragraph(seed))\n"
   ]
  }
 ],
 "metadata": {
  "language_info": {
   "name": "python"
  }
 },
 "nbformat": 4,
 "nbformat_minor": 5
}
