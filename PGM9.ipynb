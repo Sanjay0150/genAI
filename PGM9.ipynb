{
 "cells": [
  {
   "cell_type": "code",
   "execution_count": null,
   "id": "e6017973",
   "metadata": {},
   "outputs": [],
   "source": [
    "import os\n",
    "import wikipedia\n",
    "from kaggle_secrets import UserSecretsClient\n",
    "from langchain_core.prompts import ChatPromptTemplate\n",
    "from langchain_groq import ChatGroq\n",
    "from langchain_core.documents import Document\n",
    "from langchain.chains.combine_documents import create_stuff_documents_chain\n",
    "\n",
    "api_key = UserSecretsClient().get_secret(\"sanjay b\")\n",
    "\n",
    "llm = ChatGroq(model_name=\"llama3-70b-8192\", api_key=api_key)\n",
    "\n",
    "prompt = ChatPromptTemplate.from_messages([\n",
    "    (\"human\", \"\"\"\n",
    "    Given the following Wikipedia article content, extract:\n",
    "    - Founder\n",
    "    - Year Founded\n",
    "    - Number of Branches/Campuses\n",
    "    - Number of Employees\n",
    "    - A 4-line summary\n",
    "\n",
    "    Content:\n",
    "    {context}\n",
    "    \"\"\")\n",
    "])\n",
    "\n",
    "result = create_stuff_documents_chain(llm=llm, prompt=prompt).invoke({\"context\": [Document(page_content=wikipedia.page(\"T John Institute of Technology\").content)]})\n",
    "\n",
    "print(result.strip() if isinstance(result, str) else result)\n"
   ]
  }
 ],
 "metadata": {
  "language_info": {
   "name": "python"
  }
 },
 "nbformat": 4,
 "nbformat_minor": 5
}
