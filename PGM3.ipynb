{
 "cells": [
  {
   "cell_type": "code",
   "execution_count": null,
   "id": "3653c598",
   "metadata": {},
   "outputs": [],
   "source": [
    "from gensim.models import Word2Vec\n",
    "from sklearn.manifold import TSNE\n",
    "import matplotlib.pyplot as plt\n",
    "\n",
    "corpus = [\n",
    "    \"The patient was diagnosed with diabetes and hypertension.\",\n",
    "    \"MRI scans reveal abnormalities in the brain tissue.\",\n",
    "    \"The treatment involves antibiotics and regular monitoring.\",\n",
    "    \"Symptoms include fever, fatigue and muscle pain.\",\n",
    "    \"The vaccine is effective against several viral infections.\",\n",
    "    \"Doctors recommend physical therapy for recovery.\",\n",
    "    \"The clinical trial results were published in the journal.\",\n",
    "    \"The surgeon performed a minimally invasive procedure.\",\n",
    "    \"The prescription includes pain relievers and anti-inflammatory drugs.\",\n",
    "    \"The diagnosis confirmed a rare genetic disorder.\"\n",
    "]\n",
    "\n",
    "data = [sentence.lower().split() for sentence in corpus]\n",
    "model = Word2Vec(data, vector_size=100, window=5, min_count=1, epochs=50)\n",
    "\n",
    "words = model.wv.index_to_key\n",
    "coords = TSNE(n_components=2, random_state=42, perplexity=5, n_iter=300).fit_transform(model.wv[words])\n",
    "\n",
    "plt.figure(figsize=(10, 8))\n",
    "plt.scatter(coords[:, 0], coords[:, 1], color='blue')\n",
    "for x, y, w in zip(coords[:, 0], coords[:, 1], words):\n",
    "    plt.text(x, y + 0.02, w, fontsize=12)\n",
    "plt.title(\"Word Embeddings Visualization (Medical Domain)\")\n",
    "plt.xlabel(\"Dimension 1\")\n",
    "plt.ylabel(\"Dimension 2\")\n",
    "plt.grid(True)\n",
    "plt.show()\n",
    "\n",
    "for target in [\"treatment\", \"vaccine\"]:\n",
    "    print(f\"Words similar to '{target}':\")\n",
    "    for w, score in model.wv.most_similar(target, topn=5):\n",
    "        print(f\"{w} ({score:.2f})\")\n"
   ]
  }
 ],
 "metadata": {
  "language_info": {
   "name": "python"
  }
 },
 "nbformat": 4,
 "nbformat_minor": 5
}
