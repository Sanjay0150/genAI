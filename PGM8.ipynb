{
 "cells": [
  {
   "cell_type": "code",
   "execution_count": null,
   "id": "373263b3",
   "metadata": {},
   "outputs": [],
   "source": [
    "!pip install langchain langchain-community langchain-cohere\n",
    "!pip install google-auth google-auth-oauthlib google-auth-httplib2 google-api-python-client\n",
    "!pip install cohere\n",
    "\n",
    "import os\n",
    "from kaggle_secrets import UserSecretsClient\n",
    "\n",
    "user_secrets=UserSecretsClient()\n",
    "\n",
    "cohere_api_key=user_secrets.get_secret(\"SanjayB\")\n",
    "os.environ[\"SanjayB\"]=cohere_api_key\n",
    "\n",
    "!pip install gdown\n",
    "!gdown --id 1yqWhhmPUvGGVGSqg3B0uEm1hA3AKJHJA\n",
    "\n",
    "text_content = ''\n",
    "with open('/kaggle/working/GT650.txt', 'r', encoding='utf-8') as file:\n",
    "    text_content = file.read()\n",
    "    print(text_content)\n",
    "\n",
    "from langchain_cohere import ChatCohere\n",
    "from langchain_core.prompts import ChatPromptTemplate\n",
    "from langchain_core.documents import Document\n",
    "from langchain.chains.combine_documents import create_stuff_documents_chain\n",
    "\n",
    "cohere_api_key = \"3zYku01fS7KdRCT3RHgaEHX0OEDcM56iwoTIr1yc\"\n",
    "llm = ChatCohere(\n",
    "    cohere_api_key=cohere_api_key,\n",
    "    model=\"command-r-plus\" \n",
    ")\n",
    "text_content = \"There was a girl named Clara who lived in a small village.\"\n",
    "prompt = ChatPromptTemplate.from_messages([\n",
    "    (\"human\", \"What was the name of the girl?\\n\\n{context}\")\n",
    "])\n",
    "chain = create_stuff_documents_chain(llm, prompt)\n",
    "docs = [Document(page_content=text_content)]\n",
    "response = chain.invoke({\"context\": docs})\n",
    "print(response)\n"
   ]
  }
 ],
 "metadata": {
  "language_info": {
   "name": "python"
  }
 },
 "nbformat": 4,
 "nbformat_minor": 5
}
