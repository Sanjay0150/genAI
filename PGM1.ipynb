{
 "cells": [
  {
   "cell_type": "code",
   "execution_count": null,
   "id": "d8f6adc5",
   "metadata": {},
   "outputs": [],
   "source": [
    "from gensim.models import KeyedVectors\n",
    "\n",
    "# Load model\n",
    "wv = KeyedVectors.load_word2vec_format(\"/kaggle/input/google-word2vec/GoogleNews-vectors-negative300.bin\", binary=True)\n",
    "\n",
    "def explore(w1, w2, w3):\n",
    "    vec = wv[w1] - wv[w2] + wv[w3]\n",
    "    results = [(w, s) for w, s in wv.similar_by_vector(vec, topn=10) if w not in {w1, w2, w3}]\n",
    "    print(f\"\\n{w1} - {w2} + {w3}:\")\n",
    "    for w, s in results[:5]: print(f\"{w}: {s:.4f}\")\n",
    "\n",
    "def sim(w1, w2):\n",
    "    print(f\"\\nSimilarity '{w1}' vs '{w2}': {wv.similarity(w1, w2):.4f}\")\n",
    "\n",
    "def similar(w):\n",
    "    print(f\"\\nMost similar to '{w}':\")\n",
    "    for w2, s in wv.most_similar(w, topn=5): print(f\"{w2}: {s:.4f}\")\n",
    "\n",
    "# Examples\n",
    "explore(\"paris\", \"france\", \"germany\")\n",
    "explore(\"apple\", \"fruit\", \"carrot\")\n",
    "sim(\"cat\", \"dog\")\n",
    "sim(\"computer\", \"keyboard\")\n",
    "sim(\"music\", \"art\")\n",
    "similar(\"happy\")\n",
    "similar(\"sad\")\n",
    "similar(\"technology\")\n"
   ]
  }
 ],
 "metadata": {
  "language_info": {
   "name": "python"
  }
 },
 "nbformat": 4,
 "nbformat_minor": 5
}
